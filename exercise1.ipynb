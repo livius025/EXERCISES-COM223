{
  "cells": [
    {
      "cell_type": "markdown",
      "metadata": {
        "colab_type": "text",
        "id": "view-in-github"
      },
      "source": [
        "<a href=\"https://colab.research.google.com/github/robitussin/CCALCOMP_EXERCISES/blob/main/exercise1.ipynb\" target=\"_parent\"><img src=\"https://colab.research.google.com/assets/colab-badge.svg\" alt=\"Open In Colab\"/></a>"
      ]
    },
    {
      "cell_type": "markdown",
      "metadata": {
        "id": "3-prKGbfwFRd"
      },
      "source": [
        "# Exercise 1"
      ]
    },
    {
      "cell_type": "markdown",
      "metadata": {
        "id": "kBW-_z9HwFRf"
      },
      "source": [
        "Please follow the instructions in each number. Do not remove or modify the pre-defined code!"
      ]
    },
    {
      "cell_type": "code",
      "execution_count": 2,
      "metadata": {
        "id": "ABAdD_ngwFRg"
      },
      "outputs": [],
      "source": [
        "# Add a vertex to the set of vertices and the graph\n",
        "def add_vertex(v):\n",
        "  global graph\n",
        "  global vertices_no\n",
        "  global vertices\n",
        "  if v in vertices:\n",
        "    print(\"Vertex \", v, \" already exists\")\n",
        "  else:\n",
        "    vertices_no = vertices_no + 1\n",
        "    vertices.append(v)\n",
        "    if vertices_no > 1:\n",
        "        for vertex in graph:\n",
        "            vertex.append(0)\n",
        "    temp = []\n",
        "    for i in range(vertices_no):\n",
        "        temp.append(0)\n",
        "    graph.append(temp)\n",
        "\n",
        "# Add an edge between vertex v1 and v2 with edge weight e\n",
        "def add_edge(v1, v2, e):\n",
        "    global graph\n",
        "    global vertices_no\n",
        "    global vertices\n",
        "    # Check if vertex v1 is a valid vertex\n",
        "    if v1 not in vertices:\n",
        "        print(\"Vertex \", v1, \" does not exist.\")\n",
        "    # Check if vertex v1 is a valid vertex\n",
        "    elif v2 not in vertices:\n",
        "        print(\"Vertex \", v2, \" does not exist.\")\n",
        "    # Since this code is not restricted to a directed or\n",
        "    # an undirected graph, an edge between v1 v2 does not\n",
        "    # imply that an edge exists between v2 and v1\n",
        "    else:\n",
        "        index1 = vertices.index(v1)\n",
        "        index2 = vertices.index(v2)\n",
        "        graph[index1][index2] = e\n",
        "\n",
        "# Print the graph\n",
        "def print_graph():\n",
        "  global graph\n",
        "  global vertices_no\n",
        "  for i in range(vertices_no):\n",
        "    for j in range(vertices_no):\n",
        "      if graph[i][j] != 0:\n",
        "        print(vertices[i], \" -> \", vertices[j],\n",
        "              \" edge weight: \", graph[i][j])"
      ]
    },
    {
      "cell_type": "code",
      "execution_count": 3,
      "metadata": {
        "id": "912w9tR0wFRh"
      },
      "outputs": [],
      "source": [
        "# stores the vertices in the graph\n",
        "vertices = []\n",
        "# stores the number of vertices in the graph\n",
        "vertices_no = 0\n",
        "graph = []"
      ]
    },
    {
      "cell_type": "markdown",
      "metadata": {
        "id": "lzkib3wYwFRh"
      },
      "source": [
        "<img src=\"https://github.com/robitussin/CCALCOMP_EXERCISES/blob/main/images/directed%20graph2.png?raw=true\"/>"
      ]
    },
    {
      "cell_type": "markdown",
      "metadata": {
        "id": "Qfh-2gbPwFRi"
      },
      "source": [
        "1. Print the edges and vertices of the graph in set representation. (`25 points`)"
      ]
    },
    {
      "cell_type": "code",
      "execution_count": 8,
      "metadata": {
        "id": "FSymqoxmwFRi"
      },
      "outputs": [
        {
          "name": "stdout",
          "output_type": "stream",
          "text": [
            "Vertices:  {'B', 'C', 'D', 'A', 'E'}\n",
            "Edges:\n",
            "C  ->  D  edge weight:  60\n",
            "A  ->  B  edge weight:  10\n",
            "B  ->  E  edge weight:  7\n",
            "A  ->  C  edge weight:  12\n",
            "C  ->  E  edge weight:  32\n",
            "B  ->  D  edge weight:  20\n"
          ]
        }
      ],
      "source": [
        "class Graph:\n",
        "  def __init__(self):\n",
        "    self.vertices = set()\n",
        "    self.edges = set()\n",
        "\n",
        "  def add_vertex(self, v):\n",
        "    self.vertices.add(v)\n",
        "\n",
        "  def add_edge(self, v1, v2, e):\n",
        "    if v1 in self.vertices and v2 in self.vertices:\n",
        "      self.edges.add((v1, v2, e))\n",
        "    else:\n",
        "      print(\"One or both of the vertices do not exist in the graph.\")\n",
        "\n",
        "  def print_graph(self):\n",
        "    print(\"Vertices: \", self.vertices)\n",
        "    print(\"Edges:\")\n",
        "    for edge in self.edges:\n",
        "      print(edge[0], \" -> \", edge[1], \" edge weight: \", edge[2])\n",
        "\n",
        "# Initialize the graph\n",
        "g = Graph()\n",
        "\n",
        "# Add vertices\n",
        "g.add_vertex(\"A\")\n",
        "g.add_vertex(\"B\")\n",
        "g.add_vertex(\"C\")\n",
        "g.add_vertex(\"D\")\n",
        "g.add_vertex(\"E\")\n",
        "\n",
        "# Add edges\n",
        "g.add_edge(\"A\", \"B\", 10)\n",
        "g.add_edge(\"A\", \"C\", 12)\n",
        "g.add_edge(\"B\", \"D\", 20)\n",
        "g.add_edge(\"B\", \"E\", 7)\n",
        "g.add_edge(\"C\", \"D\", 60)\n",
        "g.add_edge(\"C\", \"E\", 32)\n",
        "\n",
        "# Print the graph\n",
        "g.print_graph()"
      ]
    },
    {
      "cell_type": "markdown",
      "metadata": {
        "id": "NHt6QEFzwFRi"
      },
      "source": [
        "2. Implement the weighted graph in python code. Use the print_graph() function. (`25 points`)"
      ]
    },
    {
      "cell_type": "code",
      "execution_count": 7,
      "metadata": {
        "id": "fcYP9VF9wFRj"
      },
      "outputs": [
        {
          "name": "stdout",
          "output_type": "stream",
          "text": [
            "Vertex: A\n",
            "  Neighbor: B, Weight: 10\n",
            "  Neighbor: C, Weight: 20\n",
            "Vertex: B\n",
            "  Neighbor: E, Weight: 32\n",
            "  Neighbor: D, Weight: 12\n",
            "Vertex: C\n",
            "  Neighbor: D, Weight: 60\n",
            "Vertex: D\n",
            "  Neighbor: E, Weight: 25\n"
          ]
        }
      ],
      "source": [
        "class WeightedGraph:\n",
        "    def __init__(self):\n",
        "        self.graph = {}\n",
        "\n",
        "    def add_edge(self, u, v, w):\n",
        "        if u not in self.graph:\n",
        "            self.graph[u] = {}\n",
        "        self.graph[u][v] = w\n",
        "\n",
        "    def print_graph(self):\n",
        "        for vertex in self.graph:\n",
        "            print(f\"Vertex: {vertex}\")\n",
        "            for neighbor, weight in self.graph[vertex].items():\n",
        "                print(f\"  Neighbor: {neighbor}, Weight: {weight}\")\n",
        "\n",
        "# Create a new graph\n",
        "g = WeightedGraph()\n",
        "\n",
        "# Add edges to the graph\n",
        "g.add_edge('A', 'B', 10)\n",
        "g.add_edge('A', 'C', 20)\n",
        "g.add_edge('B', 'E', 32)\n",
        "g.add_edge('B', 'D', 12)\n",
        "g.add_edge('C', 'D', 60)\n",
        "g.add_edge('D', 'E', 25)\n",
        "\n",
        "# Print the graph\n",
        "g.print_graph()\n"
      ]
    },
    {
      "cell_type": "markdown",
      "metadata": {
        "id": "kD-6afNTwFRj"
      },
      "source": [
        "3. You decided to go on a trip around the philippines. Being a computer scientist, you wanted to find the optimal route that would cost the least amount of money to travel all four cities. Find the route and print the total cost of the most optimal route. (`50 points`)"
      ]
    },
    {
      "cell_type": "markdown",
      "metadata": {
        "id": "cBHIHSIewFRj"
      },
      "source": [
        "<img src=\"https://github.com/robitussin/CCALCOMP_EXERCISES/blob/main/images/trip.png?raw=true\" width=\"500\" height=\"600\"/>"
      ]
    },
    {
      "cell_type": "code",
      "execution_count": 9,
      "metadata": {
        "id": "yNwmvIXnwFRj"
      },
      "outputs": [
        {
          "name": "stdout",
          "output_type": "stream",
          "text": [
            "Shortest Route:\n",
            "Manila -> Tacloban -> Puerto Princesa -> Davao -> Manila\n",
            "Total Cost: 11500\n"
          ]
        }
      ],
      "source": [
        "# put your answer here\n",
        "from sys import maxsize\n",
        "from itertools import permutations\n",
        "\n",
        "cities = {0: 'Manila', 1: 'Tacloban', 2: 'Puerto Princesa', 3: 'Davao'}\n",
        "\n",
        "graph = {\n",
        "    'Manila': {'Tacloban': 1000, 'Davao': 5000, 'Puerto Princesa': 8000},\n",
        "    'Tacloban': {'Manila': 1000, 'Davao': 2000, 'Puerto Princesa': 1500},\n",
        "    'Puerto Princesa': {'Manila': 8000, 'Tacloban': 1500, 'Davao': 4000},\n",
        "    'Davao': {'Manila': 5000, 'Tacloban': 2000, 'Puerto Princesa': 4000}\n",
        "}\n",
        "\n",
        "V = len(cities)\n",
        "\n",
        "def least_cost(graph, s):\n",
        "    vertex = []\n",
        "    for i in range(V):\n",
        "        if i != s:\n",
        "            vertex.append(i)\n",
        "\n",
        "    min_path = maxsize\n",
        "    next_permutation = permutations(vertex)\n",
        "    min_route = None\n",
        "    for perm in next_permutation:\n",
        "        perm_list = list(perm)\n",
        "        perm_list.append(s)\n",
        "\n",
        "        current_pathweight = 0\n",
        "        k = s\n",
        "        route = [cities[k]]\n",
        "        for j in perm_list:\n",
        "            current_pathweight += graph[cities[k]][cities[j]]\n",
        "            k = j\n",
        "            route.append(cities[k])\n",
        "\n",
        "        if current_pathweight < min_path:\n",
        "            min_path = current_pathweight\n",
        "            min_route = route\n",
        "\n",
        "    return min_path, min_route\n",
        "\n",
        "shortest_distance, shortest_route = least_cost(graph, 0)\n",
        "print(\"Shortest Route:\")\n",
        "print(\" -> \".join(shortest_route))\n",
        "print(\"Total Cost:\", shortest_distance)"
      ]
    }
  ],
  "metadata": {
    "colab": {
      "include_colab_link": true,
      "provenance": []
    },
    "kernelspec": {
      "display_name": "base",
      "language": "python",
      "name": "python3"
    },
    "language_info": {
      "codemirror_mode": {
        "name": "ipython",
        "version": 3
      },
      "file_extension": ".py",
      "mimetype": "text/x-python",
      "name": "python",
      "nbconvert_exporter": "python",
      "pygments_lexer": "ipython3",
      "version": "3.12.4"
    }
  },
  "nbformat": 4,
  "nbformat_minor": 0
}
