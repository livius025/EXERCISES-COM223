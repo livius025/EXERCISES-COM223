{
  "cells": [
    {
      "cell_type": "markdown",
      "metadata": {
        "colab_type": "text",
        "id": "view-in-github"
      },
      "source": [
        "<a href=\"https://colab.research.google.com/github/machiwao/CCALCOMP_EXERCISES_COM223/blob/main/exercise4.ipynb\" target=\"_parent\"><img src=\"https://colab.research.google.com/assets/colab-badge.svg\" alt=\"Open In Colab\"/></a>"
      ]
    },
    {
      "cell_type": "markdown",
      "metadata": {
        "id": "cPRRjBOhHHMh"
      },
      "source": [
        "# Exercise 4\n",
        "\n",
        "Please follow the instructions in each number."
      ]
    },
    {
      "cell_type": "markdown",
      "metadata": {
        "id": "zvDTNWRFHHMk"
      },
      "source": [
        "### Activity Selection Problem\n",
        "\n",
        "Given a set of activities, along with the starting and finishing time of each activity, find the maximum number of activities performed by a single person assuming that a person can only work on a single activity at a time.\n",
        "\n",
        "For example,\n",
        "\n",
        "Input: Following set of activities (1, 4), (3, 5), (0, 6), (5, 7), (3, 8), (5, 9), (6, 10), (8, 11), (8, 12), (2, 13), (12, 14)  \n",
        "\n",
        "Output: (1, 4), (5, 7), (8, 11), (12, 14)"
      ]
    },
    {
      "cell_type": "markdown",
      "metadata": {
        "id": "ff7w7YLGHHMl"
      },
      "source": [
        "## Tasks"
      ]
    },
    {
      "cell_type": "markdown",
      "metadata": {
        "id": "0QLHdoNSHHMl"
      },
      "source": [
        "1. Write a program using a recursive greedy approach to get the maximum number of activities (`50 points`)"
      ]
    },
    {
      "cell_type": "code",
      "execution_count": null,
      "metadata": {
        "colab": {
          "base_uri": "https://localhost:8080/"
        },
        "id": "Xe02cHvAHHMl",
        "outputId": "6b20e65c-bcfd-4b78-e583-c12a45cf7887",
        "vscode": {
          "languageId": "plaintext"
        }
      },
      "outputs": [
        {
          "name": "stdout",
          "output_type": "stream",
          "text": [
            "[(1, 4), (5, 7), (8, 11), (12, 14)]\n"
          ]
        }
      ],
      "source": [
        "#put your answer here\n",
        "def recursive_activity_selection(activities, n, index):\n",
        "    if index >= n:\n",
        "        return []\n",
        "    next_activity_index = index + 1\n",
        "    while next_activity_index < n and activities[next_activity_index][0] < activities[index][1]:\n",
        "        next_activity_index += 1\n",
        "    return [activities[index]] + recursive_activity_selection(activities, n, next_activity_index)\n",
        "def max_activities(activities):\n",
        "    # Sort activities based on finish time\n",
        "    sorted_activities = sorted(activities, key=lambda x: x[1])\n",
        "    n = len(sorted_activities)\n",
        "    return recursive_activity_selection(sorted_activities, n, 0)\n",
        "activities = [(2, 4), (3, 5), (0, 6), (5, 7), (3, 8), (5, 9), \n",
        "              (6, 10), (8, 11), (8, 12), (2, 13), (12, 14)]\n",
        "result = max_activities(activities)\n",
        "print(\"The maximum number of activities that can be performed is:\")\n",
        "for activity in result:\n",
        "    print(activity)"
      ]
    },
    {
      "cell_type": "markdown",
      "metadata": {
        "id": "eZe27u4LHHMn"
      },
      "source": [
        "2. Write a program using a iterative greedy approach to get the maximun number of activities (`50 points`)"
      ]
    },
    {
      "cell_type": "code",
      "execution_count": null,
      "metadata": {
        "colab": {
          "base_uri": "https://localhost:8080/"
        },
        "id": "UrSZyQwEHHMn",
        "outputId": "8c2a1fd9-9948-4e9b-b733-414cabe44886",
        "vscode": {
          "languageId": "plaintext"
        }
      },
      "outputs": [
        {
          "name": "stdout",
          "output_type": "stream",
          "text": [
            "[(1, 4), (5, 7), (8, 11), (12, 14)]\n"
          ]
        }
      ],
      "source": [
        "def iterative_activity_selection(activities):\n",
        "    # Sort activities based on finish time\n",
        "    sorted_activities = sorted(activities, key=lambda x: x[1])\n",
        "    selected_activities = [sorted_activities[0]]\n",
        "    last_finish_time = sorted_activities[0][1]\n",
        "    # Iterate through the sorted activities\n",
        "    for i in range(1, len(sorted_activities)):\n",
        "        if sorted_activities[i][0] >= last_finish_time:\n",
        "            selected_activities.append(sorted_activities[i])\n",
        "            last_finish_time = sorted_activities[i][1]\n",
        "    return selected_activities\n",
        "activities = [(1, 4), (3, 5), (0, 6), (5, 7), (3, 8), (5, 9), \n",
        "              (6, 10), (8, 11), (8, 12), (2, 13), (12, 14)]\n",
        "result = iterative_activity_selection(activities)\n",
        "print(\"The maximum number of activities that can be performed is:\")\n",
        "for activity in result:\n",
        "    print(activity)"
      ]
    }
  ],
  "metadata": {
    "colab": {
      "include_colab_link": true,
      "provenance": []
    },
    "kernelspec": {
      "display_name": "base",
      "language": "python",
      "name": "python3"
    },
    "language_info": {
      "codemirror_mode": {
        "name": "ipython",
        "version": 3
      },
      "file_extension": ".py",
      "mimetype": "text/x-python",
      "name": "python",
      "nbconvert_exporter": "python",
      "pygments_lexer": "ipython3",
      "version": "3.9.6"
    }
  },
  "nbformat": 4,
  "nbformat_minor": 0
}
