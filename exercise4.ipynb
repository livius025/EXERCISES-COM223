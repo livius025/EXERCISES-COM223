{
  "cells": [
    {
      "cell_type": "markdown",
      "metadata": {
        "colab_type": "text",
        "id": "view-in-github"
      },
      "source": [
        "<a href=\"https://colab.research.google.com/github/robitussin/CCALCOMP_EXERCISES/blob/main/exercise4.ipynb\" target=\"_parent\"><img src=\"https://colab.research.google.com/assets/colab-badge.svg\" alt=\"Open In Colab\"/></a>"
      ]
    },
    {
      "cell_type": "markdown",
      "metadata": {
        "id": "cPRRjBOhHHMh"
      },
      "source": [
        "# Exercise 4\n",
        "\n",
        "Please follow the instructions in each number."
      ]
    },
    {
      "cell_type": "markdown",
      "metadata": {
        "id": "zvDTNWRFHHMk"
      },
      "source": [
        "### Activity Selection Problem\n",
        "\n",
        "Given a set of activities, along with the starting and finishing time of each activity, find the maximum number of activities performed by a single person assuming that a person can only work on a single activity at a time.\n",
        "\n",
        "For example,\n",
        "\n",
        "Input: Following set of activities (1, 4), (3, 5), (0, 6), (5, 7), (3, 8), (5, 9), (6, 10), (8, 11), (8, 12), (2, 13), (12, 14)  \n",
        "\n",
        "Output: (1, 4), (5, 7), (8, 11), (12, 14)"
      ]
    },
    {
      "cell_type": "markdown",
      "metadata": {
        "id": "ff7w7YLGHHMl"
      },
      "source": [
        "## Tasks"
      ]
    },
    {
      "cell_type": "markdown",
      "metadata": {
        "id": "0QLHdoNSHHMl"
      },
      "source": [
        "1. Write a program using a recursive greedy approach to get the maximum number of activities (`50 points`)"
      ]
    },
    {
      "cell_type": "code",
      "execution_count": 1,
      "metadata": {
        "id": "Xe02cHvAHHMl"
      },
      "outputs": [
        {
          "name": "stdout",
          "output_type": "stream",
          "text": [
            "The maximum number of activities that can be performed is:\n",
            "(1, 4)\n",
            "(5, 7)\n",
            "(8, 11)\n",
            "(12, 14)\n"
          ]
        }
      ],
      "source": [
        "\n",
        "def recursive_activity_selection(activities, n, index):\n",
        "\n",
        "    if index >= n:\n",
        "        return []\n",
        "    next_activity_index = index + 1\n",
        "    while next_activity_index < n and activities[next_activity_index][0] < activities[index][1]:\n",
        "        next_activity_index += 1\n",
        "    return [activities[index]] + recursive_activity_selection(activities, n, next_activity_index)\n",
        "\n",
        "def max_activities(activities):\n",
        "    sorted_activities = sorted(activities, key=lambda x: x[1])\n",
        "    n = len(sorted_activities)\n",
        "\n",
        "    return recursive_activity_selection(sorted_activities, n, 0)\n",
        "\n",
        "activities = [(1, 4), (3, 5), (0, 6), (5, 7), (3, 8), (5, 9), \n",
        "              (6, 10), (8, 11), (8, 12), (2, 13), (12, 14)]\n",
        "\n",
        "result = max_activities(activities)\n",
        "print(\"The maximum number of activities that can be performed is:\")\n",
        "for activity in result:\n",
        "    print(activity)\n"
      ]
    },
    {
      "cell_type": "markdown",
      "metadata": {
        "id": "eZe27u4LHHMn"
      },
      "source": [
        "2. Write a program using a iterative greedy approach to get the maximun number of activities (`50 points`)"
      ]
    },
    {
      "cell_type": "code",
      "execution_count": 3,
      "metadata": {
        "id": "UrSZyQwEHHMn"
      },
      "outputs": [
        {
          "name": "stdout",
          "output_type": "stream",
          "text": [
            "The maximum number of activities that can be performed is:\n",
            "(1, 4)\n",
            "(5, 7)\n",
            "(8, 11)\n",
            "(12, 14)\n"
          ]
        }
      ],
      "source": [
        "def iterative_activity_selection(activities):\n",
        "    selected_activities = []\n",
        "    last_activity_end_time = 0\n",
        "\n",
        "    for activity in activities:\n",
        "        start_time, end_time = activity\n",
        "        if start_time >= last_activity_end_time:\n",
        "            selected_activities.append(activity)\n",
        "            last_activity_end_time = end_time\n",
        "\n",
        "    return selected_activities\n",
        "\n",
        "activities = [(1, 4), (3, 5), (0, 6), (5, 7), (3, 8), (5, 9), \n",
        "              (6, 10), (8, 11), (8, 12), (2, 13), (12, 14)]\n",
        "\n",
        "result = iterative_activity_selection(sorted(activities, key=lambda x: x[1]))\n",
        "print(\"The maximum number of activities that can be performed is:\")\n",
        "for activity in result:\n",
        "    print(activity)\n"
      ]
    }
  ],
  "metadata": {
    "colab": {
      "include_colab_link": true,
      "provenance": []
    },
    "kernelspec": {
      "display_name": "base",
      "language": "python",
      "name": "python3"
    },
    "language_info": {
      "codemirror_mode": {
        "name": "ipython",
        "version": 3
      },
      "file_extension": ".py",
      "mimetype": "text/x-python",
      "name": "python",
      "nbconvert_exporter": "python",
      "pygments_lexer": "ipython3",
      "version": "3.12.4"
    }
  },
  "nbformat": 4,
  "nbformat_minor": 0
}
