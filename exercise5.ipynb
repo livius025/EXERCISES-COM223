{
  "cells": [
    {
      "cell_type": "markdown",
      "metadata": {
        "colab_type": "text",
        "id": "view-in-github"
      },
      "source": [
        "<a href=\"https://colab.research.google.com/github/robitussin/CCALCOMP_EXERCISES/blob/main/exercise5.ipynb\" target=\"_parent\"><img src=\"https://colab.research.google.com/assets/colab-badge.svg\" alt=\"Open In Colab\"/></a>"
      ]
    },
    {
      "cell_type": "markdown",
      "metadata": {
        "id": "-8bYOEC8HOQ4"
      },
      "source": [
        "# Exercise 5\n",
        "\n",
        "Please follow the instructions in each number."
      ]
    },
    {
      "cell_type": "markdown",
      "metadata": {
        "id": "FEPXLUAPHOQ6"
      },
      "source": [
        "### Maximum Subarray\n",
        "Given an array of integers nums, find the subarray with the largest sum and return the sum.\n",
        "\n",
        "A subarray is a contiguous non-empty sequence of elements within an array.\n",
        "\n",
        "\n",
        "\n",
        "Example 1:\n",
        "\n",
        "Input: nums = [2,-3,4,-2,2,1,-1,4]\n",
        "\n",
        "Output: 8\n",
        "\n",
        "Explanation: The subarray [4,-2,2,1,-1,4] has the largest sum 8."
      ]
    },
    {
      "cell_type": "markdown",
      "metadata": {
        "id": "D4a-4yS4HOQ7"
      },
      "source": [
        "## Tasks"
      ]
    },
    {
      "cell_type": "markdown",
      "metadata": {
        "id": "v8mlE6kYHOQ7"
      },
      "source": [
        "1. Put your student number in a list and manually compute the maximum subarray in your student number (`10 points`)"
      ]
    },
    {
      "cell_type": "code",
      "execution_count": 2,
      "metadata": {
        "id": "YJMIVpuTHOQ8"
      },
      "outputs": [
        {
          "name": "stdout",
          "output_type": "stream",
          "text": [
            "Subarray of Student No.: [2, 0, 2, 2, -1, 0, 1, 5, 2, 5]\n",
            "Maximum Sum of Subarray: 18\n"
          ]
        }
      ],
      "source": [
        "# put your answer here\n",
        "student_no = [2, 0, 2, 2, -1, 0, 1, 5, 2, 5]\n",
        "sub_array = [2, 0, 2, 2, -1, 0, 1, 5, 2, 5]\n",
        "sum_of_sub_array = sum(sub_array) \n",
        "print(\"Subarray of Student No.:\", sub_array)\n",
        "print(\"Maximum Sum of Subarray:\", sum_of_sub_array)\n"
      ]
    },
    {
      "cell_type": "markdown",
      "metadata": {
        "id": "nchQgI2KHOQ8"
      },
      "source": [
        "2. Write a program using a brute-force approach to get the maximum-subarray of your student number (`40 points`)"
      ]
    },
    {
      "cell_type": "code",
      "execution_count": 4,
      "metadata": {
        "id": "b9P6oe11HOQ9"
      },
      "outputs": [
        {
          "name": "stdout",
          "output_type": "stream",
          "text": [
            "Subarray of Student No.: [2, 0, 2, 2, -1, 0, 1, 5, 2, 5]\n",
            "Maximum Sum of Subarray: 18\n"
          ]
        }
      ],
      "source": [
        "# put your answer here\n",
        "student_no = [2, 0, 2, 2, -1, 0, 1, 5, 2, 5]\n",
        "\n",
        "def brute_force_max_subarray(arr):\n",
        "    max_sum = float('-inf')\n",
        "    start_index = 0\n",
        "    end_index = 0\n",
        "    for i in range(len(arr)):\n",
        "        for j in range(i, len(arr)):\n",
        "            current_sum = sum(arr[i:j+1])\n",
        "            if current_sum > max_sum:\n",
        "                max_sum = current_sum\n",
        "                start_index = i\n",
        "                end_index = j\n",
        "    return arr[start_index:end_index+1], max_sum\n",
        "# Get the maximum subarray and its sum\n",
        "sub_array, max_sum = brute_force_max_subarray(student_no)\n",
        "# Print the results\n",
        "print(\"Subarray of Student No.:\", sub_array)\n",
        "print(\"Maximum Sum of Subarray:\", max_sum)\n"
      ]
    },
    {
      "cell_type": "markdown",
      "metadata": {
        "id": "NkqAxIx_HOQ9"
      },
      "source": [
        "3. Write a program using a dynamic programming to get the maximum-subarray of your student number (`50 points`)"
      ]
    },
    {
      "cell_type": "code",
      "execution_count": 6,
      "metadata": {
        "id": "BFBp2ARLHOQ9"
      },
      "outputs": [
        {
          "name": "stdout",
          "output_type": "stream",
          "text": [
            "Subarray of Student No.: [2, 0, 2, 2, -1, 0, 1, 5, 2, 5]\n",
            "Maximum Sum of Subarray: 18\n"
          ]
        }
      ],
      "source": [
        "# put your answer here\n",
        "def max_subarray(arr):\n",
        "    max_ending_here = max_so_far = arr[0]\n",
        "    start = end = 0\n",
        "    temp_start = 0\n",
        "    for i in range(1, len(arr)):\n",
        "        if arr[i] > max_ending_here + arr[i]:\n",
        "            max_ending_here = arr[i]\n",
        "            temp_start = i\n",
        "        else:\n",
        "            max_ending_here += arr[i]\n",
        "        if max_ending_here > max_so_far:\n",
        "            max_so_far = max_ending_here\n",
        "            start = temp_start\n",
        "            end = i\n",
        "    return arr[start:end+1], max_so_far\n",
        "student_no = [2, 0, 2, 2, -1, 0, 1, 5, 2, 5]\n",
        "sub_array, max_sum = max_subarray(student_no)\n",
        "print(\"Subarray of Student No.:\", sub_array)\n",
        "print(\"Maximum Sum of Subarray:\", max_sum)"
      ]
    }
  ],
  "metadata": {
    "colab": {
      "include_colab_link": true,
      "provenance": []
    },
    "kernelspec": {
      "display_name": "base",
      "language": "python",
      "name": "python3"
    },
    "language_info": {
      "codemirror_mode": {
        "name": "ipython",
        "version": 3
      },
      "file_extension": ".py",
      "mimetype": "text/x-python",
      "name": "python",
      "nbconvert_exporter": "python",
      "pygments_lexer": "ipython3",
      "version": "3.12.4"
    }
  },
  "nbformat": 4,
  "nbformat_minor": 0
}
